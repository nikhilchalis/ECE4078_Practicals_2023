{
 "cells": [
  {
   "cell_type": "markdown",
   "metadata": {
    "cell_id": "488030e31dec46b6a9fe5ea407f78e33",
    "deepnote_cell_height": 218.60000610351562,
    "deepnote_cell_type": "markdown",
    "owner_user_id": "8979978f-05a8-4af3-84d3-b89b8c07f6ef",
    "tags": []
   },
   "source": [
    "# Practical 1: Position and Orientation\n",
    "\n",
    "You may also find these commands useful when using the notebook:\n",
    "- \"Ctrl\" + \"/\" to comment/uncomment\n",
    "- \"Shift\" + \"Enter\" to run the block\n",
    "\n",
    "In the following code blocks, we will import dependencies and initialize our visualizer"
   ]
  },
  {
   "cell_type": "code",
   "execution_count": 1,
   "metadata": {
    "cell_id": "c2221c24676f4c3580b65122f528444d",
    "deepnote_cell_height": 225,
    "deepnote_cell_type": "code",
    "deepnote_to_be_reexecuted": false,
    "execution_millis": 1197,
    "execution_start": 1658299058017,
    "source_hash": "268c64bb",
    "tags": []
   },
   "outputs": [],
   "source": [
    "import ipywidgets as widgets\n",
    "import numpy as np\n",
    "# from Practical01_Support.NotebookChecker import NotebookChecker\n",
    "#!pip install meshcat==0.3.2\n",
    "import meshcat\n",
    "import meshcat.geometry as g\n",
    "import meshcat.transformations as tf\n",
    "\n",
    "#!pip install ece4078\n",
    "from ece4078.Utility import StartMeshcat\n",
    "from ece4078.NotebookChecker import NotebookChecker"
   ]
  },
  {
   "cell_type": "code",
   "execution_count": 2,
   "metadata": {
    "tags": []
   },
   "outputs": [],
   "source": [
    "#!pip uninstall meshcat\n",
    "#!pip uninstall ece4078"
   ]
  },
  {
   "cell_type": "code",
   "execution_count": 3,
   "metadata": {
    "cell_id": "905d7ef579e44f49998a612d80d96d7a",
    "deepnote_cell_height": 81,
    "deepnote_cell_type": "code",
    "deepnote_to_be_reexecuted": false,
    "execution_millis": 772,
    "execution_start": 1658299061899,
    "source_hash": "34afddb1",
    "tags": []
   },
   "outputs": [
    {
     "name": "stdout",
     "output_type": "stream",
     "text": [
      "\n",
      "Traceback (most recent call last):\n",
      "  File \"C:\\Users\\nikhi\\anaconda3\\Lib\\site-packages\\numpy\\core\\__init__.py\", line 23, in <module>\n",
      "    from . import multiarray\n",
      "  File \"C:\\Users\\nikhi\\anaconda3\\Lib\\site-packages\\numpy\\core\\multiarray.py\", line 10, in <module>\n",
      "    from . import overrides\n",
      "  File \"C:\\Users\\nikhi\\anaconda3\\Lib\\site-packages\\numpy\\core\\overrides.py\", line 8, in <module>\n",
      "    from numpy.compat._inspect import getargspec\n",
      "  File \"C:\\Users\\nikhi\\anaconda3\\Lib\\site-packages\\numpy\\compat\\__init__.py\", line 12, in <module>\n",
      "    from . import py3k\n",
      "  File \"C:\\Users\\nikhi\\anaconda3\\Lib\\site-packages\\numpy\\compat\\py3k.py\", line 21, in <module>\n",
      "    from pathlib import Path\n",
      "  File \"C:\\Users\\nikhi\\anaconda3\\Lib\\site-packages\\pathlib.py\", line 10, in <module>\n",
      "    from collections import Sequence\n",
      "ImportError: cannot import name 'Sequence' from 'collections' (C:\\Users\\nikhi\\anaconda3\\Lib\\collections\\__init__.py)\n",
      "\n",
      "During handling of the above exception, another exception occurred:\n",
      "\n",
      "Traceback (most recent call last):\n",
      "  File \"<frozen runpy>\", line 189, in _run_module_as_main\n",
      "  File \"<frozen runpy>\", line 112, in _get_module_details\n",
      "  File \"C:\\Users\\nikhi\\anaconda3\\Lib\\site-packages\\meshcat\\__init__.py\", line 3, in <module>\n",
      "    from . import commands\n",
      "  File \"C:\\Users\\nikhi\\anaconda3\\Lib\\site-packages\\meshcat\\commands.py\", line 1, in <module>\n",
      "    from .geometry import Geometry, Object, Mesh, MeshPhongMaterial, OrthographicCamera, PerspectiveCamera, PointsMaterial, Points\n",
      "  File \"C:\\Users\\nikhi\\anaconda3\\Lib\\site-packages\\meshcat\\geometry.py\", line 5, in <module>\n",
      "    import numpy as np\n",
      "  File \"C:\\Users\\nikhi\\anaconda3\\Lib\\site-packages\\numpy\\__init__.py\", line 141, in <module>\n",
      "    from . import core\n",
      "  File \"C:\\Users\\nikhi\\anaconda3\\Lib\\site-packages\\numpy\\core\\__init__.py\", line 49, in <module>\n",
      "    raise ImportError(msg)\n",
      "ImportError: \n",
      "\n",
      "IMPORTANT: PLEASE READ THIS FOR ADVICE ON HOW TO SOLVE THIS ISSUE!\n",
      "\n",
      "Importing the numpy C-extensions failed. This error can happen for\n",
      "many reasons, often due to issues with your setup or how NumPy was\n",
      "installed.\n",
      "\n",
      "We have compiled some common reasons and troubleshooting tips at:\n",
      "\n",
      "    https://numpy.org/devdocs/user/troubleshooting-importerror.html\n",
      "\n",
      "Please note and check the following:\n",
      "\n",
      "  * The Python version is: Python3.11 from \"C:\\Users\\nikhi\\anaconda3\\python.exe\"\n",
      "  * The NumPy version is: \"1.24.3\"\n",
      "\n",
      "and make sure that they are the versions you expect.\n",
      "Please carefully study the documentation linked above for further help.\n",
      "\n",
      "Original error was: cannot import name 'Sequence' from 'collections' (C:\\Users\\nikhi\\anaconda3\\Lib\\collections\\__init__.py)\n",
      "\n",
      "\n"
     ]
    },
    {
     "ename": "RuntimeError",
     "evalue": "the meshcat server process exited prematurely with exit code 1",
     "output_type": "error",
     "traceback": [
      "\u001b[1;31m---------------------------------------------------------------------------\u001b[0m",
      "\u001b[1;31mRuntimeError\u001b[0m                              Traceback (most recent call last)",
      "Cell \u001b[1;32mIn[3], line 1\u001b[0m\n\u001b[1;32m----> 1\u001b[0m vis \u001b[38;5;241m=\u001b[39m StartMeshcat()\n",
      "File \u001b[1;32m~\\anaconda3\\Lib\\site-packages\\ece4078\\Utility.py:256\u001b[0m, in \u001b[0;36mStartMeshcat\u001b[1;34m(nginx)\u001b[0m\n\u001b[0;32m    254\u001b[0m             \u001b[38;5;28;01mreturn\u001b[39;00m _start_meshcat_vanilla()\n\u001b[0;32m    255\u001b[0m \u001b[38;5;28;01melse\u001b[39;00m:\n\u001b[1;32m--> 256\u001b[0m     \u001b[38;5;28;01mreturn\u001b[39;00m _start_meshcat_vanilla()\n",
      "File \u001b[1;32m~\\anaconda3\\Lib\\site-packages\\ece4078\\Utility.py:222\u001b[0m, in \u001b[0;36m_start_meshcat_vanilla\u001b[1;34m()\u001b[0m\n\u001b[0;32m    221\u001b[0m \u001b[38;5;28;01mdef\u001b[39;00m \u001b[38;5;21m_start_meshcat_vanilla\u001b[39m():\n\u001b[1;32m--> 222\u001b[0m     vis \u001b[38;5;241m=\u001b[39m ece4078_viz()\n\u001b[0;32m    223\u001b[0m     url \u001b[38;5;241m=\u001b[39m vis\u001b[38;5;241m.\u001b[39murl()\n\u001b[0;32m    224\u001b[0m     vis\u001b[38;5;241m.\u001b[39minitialize_inline(url)\n",
      "File \u001b[1;32m~\\anaconda3\\Lib\\site-packages\\meshcat\\visualizer.py:92\u001b[0m, in \u001b[0;36mVisualizer.__init__\u001b[1;34m(self, zmq_url, window, server_args)\u001b[0m\n\u001b[0;32m     90\u001b[0m \u001b[38;5;28;01mdef\u001b[39;00m \u001b[38;5;21m__init__\u001b[39m(\u001b[38;5;28mself\u001b[39m, zmq_url\u001b[38;5;241m=\u001b[39m\u001b[38;5;28;01mNone\u001b[39;00m, window\u001b[38;5;241m=\u001b[39m\u001b[38;5;28;01mNone\u001b[39;00m, server_args\u001b[38;5;241m=\u001b[39m[]):\n\u001b[0;32m     91\u001b[0m     \u001b[38;5;28;01mif\u001b[39;00m window \u001b[38;5;129;01mis\u001b[39;00m \u001b[38;5;28;01mNone\u001b[39;00m:\n\u001b[1;32m---> 92\u001b[0m         \u001b[38;5;28mself\u001b[39m\u001b[38;5;241m.\u001b[39mwindow \u001b[38;5;241m=\u001b[39m ViewerWindow(zmq_url\u001b[38;5;241m=\u001b[39mzmq_url, start_server\u001b[38;5;241m=\u001b[39m(zmq_url \u001b[38;5;129;01mis\u001b[39;00m \u001b[38;5;28;01mNone\u001b[39;00m), server_args\u001b[38;5;241m=\u001b[39mserver_args)\n\u001b[0;32m     93\u001b[0m     \u001b[38;5;28;01melse\u001b[39;00m:\n\u001b[0;32m     94\u001b[0m         \u001b[38;5;28mself\u001b[39m\u001b[38;5;241m.\u001b[39mwindow \u001b[38;5;241m=\u001b[39m window\n",
      "File \u001b[1;32m~\\anaconda3\\Lib\\site-packages\\meshcat\\visualizer.py:20\u001b[0m, in \u001b[0;36mViewerWindow.__init__\u001b[1;34m(self, zmq_url, start_server, server_args)\u001b[0m\n\u001b[0;32m     18\u001b[0m \u001b[38;5;28;01mdef\u001b[39;00m \u001b[38;5;21m__init__\u001b[39m(\u001b[38;5;28mself\u001b[39m, zmq_url, start_server, server_args):\n\u001b[0;32m     19\u001b[0m     \u001b[38;5;28;01mif\u001b[39;00m start_server:\n\u001b[1;32m---> 20\u001b[0m         \u001b[38;5;28mself\u001b[39m\u001b[38;5;241m.\u001b[39mserver_proc, \u001b[38;5;28mself\u001b[39m\u001b[38;5;241m.\u001b[39mzmq_url, \u001b[38;5;28mself\u001b[39m\u001b[38;5;241m.\u001b[39mweb_url \u001b[38;5;241m=\u001b[39m start_zmq_server_as_subprocess(\n\u001b[0;32m     21\u001b[0m             zmq_url\u001b[38;5;241m=\u001b[39mzmq_url, server_args\u001b[38;5;241m=\u001b[39mserver_args)\n\u001b[0;32m     23\u001b[0m     \u001b[38;5;28;01melse\u001b[39;00m:\n\u001b[0;32m     24\u001b[0m         \u001b[38;5;28mself\u001b[39m\u001b[38;5;241m.\u001b[39mserver_proc \u001b[38;5;241m=\u001b[39m \u001b[38;5;28;01mNone\u001b[39;00m\n",
      "File \u001b[1;32m~\\anaconda3\\Lib\\site-packages\\meshcat\\servers\\zmqserver.py:70\u001b[0m, in \u001b[0;36mstart_zmq_server_as_subprocess\u001b[1;34m(zmq_url, server_args)\u001b[0m\n\u001b[0;32m     68\u001b[0m         \u001b[38;5;28mprint\u001b[39m(outs\u001b[38;5;241m.\u001b[39mdecode(\u001b[38;5;124m\"\u001b[39m\u001b[38;5;124mutf-8\u001b[39m\u001b[38;5;124m\"\u001b[39m))\n\u001b[0;32m     69\u001b[0m         \u001b[38;5;28mprint\u001b[39m(errs\u001b[38;5;241m.\u001b[39mdecode(\u001b[38;5;124m\"\u001b[39m\u001b[38;5;124mutf-8\u001b[39m\u001b[38;5;124m\"\u001b[39m))\n\u001b[1;32m---> 70\u001b[0m         \u001b[38;5;28;01mraise\u001b[39;00m \u001b[38;5;167;01mRuntimeError\u001b[39;00m(\u001b[38;5;124m\"\u001b[39m\u001b[38;5;124mthe meshcat server process exited prematurely with exit code \u001b[39m\u001b[38;5;124m\"\u001b[39m \u001b[38;5;241m+\u001b[39m \u001b[38;5;28mstr\u001b[39m(server_proc\u001b[38;5;241m.\u001b[39mpoll()))\n\u001b[0;32m     71\u001b[0m zmq_url \u001b[38;5;241m=\u001b[39m match_zmq_url(line)\n\u001b[0;32m     72\u001b[0m web_url \u001b[38;5;241m=\u001b[39m match_web_url(server_proc\u001b[38;5;241m.\u001b[39mstdout\u001b[38;5;241m.\u001b[39mreadline()\u001b[38;5;241m.\u001b[39mstrip()\u001b[38;5;241m.\u001b[39mdecode(\u001b[38;5;124m\"\u001b[39m\u001b[38;5;124mutf-8\u001b[39m\u001b[38;5;124m\"\u001b[39m))\n",
      "\u001b[1;31mRuntimeError\u001b[0m: the meshcat server process exited prematurely with exit code 1"
     ]
    }
   ],
   "source": [
    "vis = StartMeshcat()"
   ]
  },
  {
   "cell_type": "markdown",
   "metadata": {
    "cell_id": "68e49ed601594cc9ae56845183e4466e",
    "deepnote_cell_height": 161.60000610351562,
    "deepnote_cell_type": "markdown",
    "tags": []
   },
   "source": [
    "Testing the Notebook First\n",
    "\n",
    "To make sure that your notebook instance has been created correctly, please execute the code below.\n",
    "\n",
    "You should see the plot change as you move the slider.\n",
    "\n",
    "**FLUX Question**: What is the phrase shown when Omega ($\\omega$) =10 at the end?"
   ]
  },
  {
   "cell_type": "code",
   "execution_count": 9,
   "metadata": {
    "cell_id": "de6af501254146e79f61980244ada7c1",
    "deepnote_cell_height": 153,
    "deepnote_cell_type": "code",
    "deepnote_to_be_reexecuted": false,
    "execution_millis": 462,
    "execution_start": 1658299065318,
    "source_hash": "81e6c955",
    "tags": []
   },
   "outputs": [
    {
     "data": {
      "application/vnd.jupyter.widget-view+json": {
       "model_id": "d0aa29b0a9bd41508ace28b7771462ee",
       "version_major": 2,
       "version_minor": 0
      },
      "text/plain": [
       "IntSlider(value=0, continuous_update=False, description='Omega', max=10)"
      ]
     },
     "metadata": {},
     "output_type": "display_data"
    },
    {
     "data": {
      "application/vnd.jupyter.widget-view+json": {
       "model_id": "2d54ca9f955c4855a9e8e351ab2b8652",
       "version_major": 2,
       "version_minor": 0
      },
      "text/plain": [
       "Output()"
      ]
     },
     "metadata": {},
     "output_type": "display_data"
    },
    {
     "data": {
      "application/vnd.jupyter.widget-view+json": {
       "model_id": "4568e57f895e4271901cc0c1bcab8afc",
       "version_major": 2,
       "version_minor": 0
      },
      "text/plain": [
       "HTML(value='\\n                <div style=\"height: 400px; width: 100%; overflow-x: auto; overflow-y: hidden; re…"
      ]
     },
     "metadata": {},
     "output_type": "display_data"
    }
   ],
   "source": [
    "vis.delete()\n",
    "scale = 0.75\n",
    "vis.setPNGView(scale, center = [0.75*scale * lim for lim in [-2, 1, 1, -1]])\n",
    "notebook_plot, w_slider = NotebookChecker(vis)\n",
    "display(w_slider, notebook_plot)\n",
    "display(vis.show_inline())"
   ]
  },
  {
   "cell_type": "markdown",
   "metadata": {
    "cell_id": "220dbd17095440cb9f5a8561265231e7",
    "deepnote_cell_height": 331.066650390625,
    "deepnote_cell_type": "markdown",
    "tags": []
   },
   "source": [
    "## 1. Rotations in 2D\n",
    "\n",
    "We define a 2D coordinate frame to represent our robot $(\\boldsymbol{x}_1, \\boldsymbol{y}_1)$ with respect to the world frame $(\\boldsymbol{x}_0, \\boldsymbol{y}_0)$. \n",
    "\n",
    "Given an angle $\\theta$, we describe the relation between the world and robot's frames using the following rotation matrix $R_{01} = \\begin{bmatrix}\\cos\\theta & -\\sin\\theta \\\\\\sin\\theta & \\cos\\theta \\end{bmatrix}$.\n",
    "\n",
    "Below we show how the robot's frame (green and red arrows) changes relative to the world frame (black) as the angle $\\theta$ increases or decreases.\n",
    "\n",
    "**Interaction**:\n",
    "- Move the slider to change the rotation angle around the origin"
   ]
  },
  {
   "cell_type": "code",
   "execution_count": null,
   "metadata": {
    "cell_id": "4ba789caa9ee40c898c4bf71425f0470",
    "deepnote_cell_height": 436,
    "deepnote_cell_type": "code",
    "deepnote_to_be_reexecuted": false,
    "execution_millis": 44,
    "execution_start": 1658297526906,
    "source_hash": "8de469dc",
    "tags": []
   },
   "outputs": [],
   "source": [
    "size = 10\n",
    "\n",
    "vis.delete()\n",
    "vis.Set2DView(scale = size, center = [0.75*size * lim for lim in [-2, 1, 1, -1]])\n",
    "\n",
    "vis[\"rotated_frame\"].set_object(g.triad(size/2))\n",
    "vis[\"original_frame\"].set_object(g.triad(size/2))\n",
    "def f(theta):\n",
    "    a = np.array([[np.cos(theta), -np.sin(theta)], [np.sin(theta), np.cos(theta)]])\n",
    "    vis.printMatrix(a, size)\n",
    "    M = np.identity(4)\n",
    "    M[:2, :2] = a\n",
    "    vis[\"rotated_frame\"].set_transform(M)\n",
    "    return M\n",
    "\n",
    "slider = widgets.FloatSlider(value=0, min=-2*np.pi, max=2*np.pi, step=0.01, description='Theta',\n",
    "                                                continuous_update=True)\n",
    "interactive_plot = widgets.interactive_output(f, {'theta': slider})\n",
    "display(slider, interactive_plot)\n",
    "display(vis.show_inline())"
   ]
  },
  {
   "cell_type": "markdown",
   "metadata": {
    "cell_id": "3a9da3d71c0440479c01cf363114d877",
    "deepnote_cell_height": 430.183349609375,
    "deepnote_cell_type": "markdown",
    "deepnote_to_be_reexecuted": false,
    "execution_millis": 4,
    "execution_start": 1656061732025,
    "source_hash": "3d2eb12d",
    "tags": []
   },
   "source": [
    "## 2. Rotations in 3D\n",
    "\n",
    "Let us now extend the definition of rotations to a 3-dimensional world.\n",
    "\n",
    "Recall that\n",
    "\n",
    "$$R_{x}(\\theta) = \\begin{bmatrix}1 & 0 & 0 \\\\ 0 & \\cos\\theta & -\\sin\\theta \\\\ 0 & \\sin\\theta & \\cos\\theta \\end{bmatrix}, R_{y}(\\theta) = \\begin{bmatrix} \\cos\\theta & 0 & \\sin\\theta \\\\ 0 & 1 & 0 \\\\ -\\sin\\theta & 0 & \\cos\\theta \\end{bmatrix} R_{z}(\\theta) = \\begin{bmatrix}\\cos\\theta & -\\sin\\theta & 0 \\\\ \\sin\\theta & \\cos\\theta & 0 \\\\ 0 & 0 & 1 \\end{bmatrix}$$\n",
    "\n",
    "**Interaction**:\n",
    "- Move the sliders to change the rotation angle around each axis\n",
    "- Click on a button to change the composition order of the rotation matrices\n",
    "\n",
    "**TO DO**:\n",
    "- Complete the definition of $R_y(\\theta)$\n",
    "- Implement the $x$-$z$-$y$ and $z$-$x$-$y$ rotation orders"
   ]
  },
  {
   "cell_type": "code",
   "execution_count": null,
   "metadata": {
    "cell_id": "4e2b486f411c4390b3ee39fb50b4959f",
    "deepnote_cell_height": 657,
    "deepnote_cell_type": "code",
    "deepnote_to_be_reexecuted": false,
    "execution_millis": 3,
    "execution_start": 1658297538758,
    "owner_user_id": "39e5588c-373b-434e-8bfa-8e48976ef92a",
    "source_hash": "ffdd1f04",
    "tags": []
   },
   "outputs": [],
   "source": [
    "def rotate3D(mode, theta_x, theta_y, theta_z):  \n",
    "        \n",
    "    rot_x = np.identity(3)\n",
    "    rot_y = np.identity(3)\n",
    "    rot_z = np.identity(3)\n",
    "    \n",
    "    rot_x[1:, 1:] = [[np.cos(theta_x), -np.sin(theta_x)],\n",
    "                     [np.sin(theta_x), np.cos(theta_x)]]        \n",
    "    rot_z[0:2, 0:2] = [[np.cos(theta_z), -np.sin(theta_z)],\n",
    "                      [np.sin(theta_z), np.cos(theta_z)]]\n",
    "    \n",
    "    #TODO: Update rot_y ---------------------------------------------\n",
    "    rot_y[0, :] = [1, 0, 0]\n",
    "    rot_y[2, :] = [0, 0, 1]\n",
    "    #ENDTODO ---------------------------------------------\n",
    "    \n",
    "    rot_mat = np.identity(3)\n",
    "    if mode == 'x-z-y':\n",
    "    #TODO: Complete rotation order x-z-y ----------------------------\n",
    "        rot_mat = np.eye(3)\n",
    "    #ENDTODO\n",
    "    elif mode == 'z-x-y':\n",
    "    #TODO: Complete rotation order z-x-y-----------------------------\n",
    "        rot_mat = np.eye(3)\n",
    "    #ENDTODO\n",
    "    else:\n",
    "        rot_mat = rot_x @ rot_z @ rot_y\n",
    "\n",
    "    M = np.identity(4)\n",
    "    M[:3, :3] = rot_mat\n",
    "    print_pos = tf.rotation_matrix(np.pi/2, [0,0,1]) @ tf.translation_matrix([-6, -1, 0])\n",
    "    vis.printMatrix(rot_mat, 10, print_pos)\n",
    "    vis[\"rotated_frame\"].set_transform(M)"
   ]
  },
  {
   "cell_type": "code",
   "execution_count": null,
   "metadata": {
    "cell_id": "d9eecb36cfd74ef1a96558ebb4d71265",
    "deepnote_cell_height": 454,
    "deepnote_cell_type": "code",
    "deepnote_to_be_reexecuted": false,
    "execution_millis": 72,
    "execution_start": 1658297546323,
    "source_hash": "bdface24",
    "tags": []
   },
   "outputs": [],
   "source": [
    "vis.delete()\n",
    "vis.Set3DView(pos = [5.0, 3.0, -3.0])\n",
    "length = 1\n",
    "vis.add_thick_triad(\"rotated_frame\", length = length, opacity = 1.0) \n",
    "vis.add_thick_triad(\"original_frame\", length = length, opacity = 0.1) \n",
    "\n",
    "mode_btn = widgets.ToggleButtons(\n",
    "  options=['x-z-y', 'z-x-y', 'y-z-x'],\n",
    "  description='Transform:',\n",
    ")\n",
    "\n",
    "stepsize = 0.01\n",
    "\n",
    "sliders = []\n",
    "for axis in [\"x\", \"y\", \"z\"]:\n",
    "    sliders.append(widgets.FloatSlider(value=0, min=-2*np.pi, max=2*np.pi, \n",
    "    step=stepsize, description=f'theta_{axis}', continuous_update=True))\n",
    "widgets.interactive_output(rotate3D, {'mode': mode_btn, 'theta_x': sliders[0], \n",
    "                                                    'theta_y': sliders[1], 'theta_z': sliders[2]})\n",
    "display(mode_btn, *sliders)\n",
    "display(vis.show_inline())"
   ]
  },
  {
   "cell_type": "markdown",
   "metadata": {
    "cell_id": "a4c9e32dbbb346ce8908cdc6beb5c199",
    "deepnote_cell_height": 52.399993896484375,
    "deepnote_cell_type": "markdown",
    "tags": []
   },
   "source": [
    "**FLUX Question**: Are the rotations expressed in fixed or successive frame? "
   ]
  },
  {
   "cell_type": "markdown",
   "metadata": {
    "cell_id": "43ea0ba2e2e3459bb87b3f730b9663a4",
    "deepnote_cell_height": 454.26666259765625,
    "deepnote_cell_type": "markdown",
    "tags": []
   },
   "source": [
    "# 3. Homogeneous Transformations in 3D\n",
    "\n",
    "Let us now combine rotations and translations in a 3-dimensional world.\n",
    "\n",
    "Recall that $T_{01} = \\begin{vmatrix} R_{01} & \\boldsymbol{d}^0_1\\\\ 0 & 1\\end{vmatrix}$, where $R_{01}$ and $\\boldsymbol{d}^0_1$ correspond to the rotation and displacement of the robot frame, i.e, *frame 1*, relative to the world frame, i.e., *frame 0*.\n",
    "\n",
    "**Interaction**:\n",
    "- Use the button (i.e. x, y, z, transform) and the sliders to visualize the rotation and displacement of the robot frame relative to the corresponding axis in the world frame. Note: if x transform is selected, slider values not associated with x will reset.\n",
    "\n",
    "**TO DO**:\n",
    "- Complete the definition of $T_{01}$ along the $z$-axis"
   ]
  },
  {
   "cell_type": "code",
   "execution_count": null,
   "metadata": {
    "cell_id": "c9c0ae7cada7482c8e73e7aa91f91014",
    "deepnote_cell_height": 513,
    "deepnote_cell_type": "code",
    "deepnote_to_be_reexecuted": false,
    "execution_millis": 0,
    "execution_start": 1658297579316,
    "source_hash": "fbfd604",
    "tags": []
   },
   "outputs": [],
   "source": [
    "def transform3D (mode, theta_x, d_x, theta_y, d_y, theta_z, d_z):\n",
    "    trans = np.identity(4)\n",
    "    rot = np.identity(4)\n",
    "\n",
    "    if mode == 'x transform':\n",
    "        trans[0, -1] = d_x\n",
    "        rot[1:3, 1:3] = [[np.cos(theta_x), -np.sin(theta_x)],\n",
    "                            [np.sin(theta_x), np.cos(theta_x)]]\n",
    "    elif mode == 'y transform':\n",
    "        trans[1,-1] = d_y\n",
    "        rot[0, 0:3] = [np.cos(theta_y), 0, np.sin(theta_y)]\n",
    "        rot[2, 0:3] = [-np.sin(theta_y), 0, np.cos(theta_y)]\n",
    "    elif mode == 'z transform':\n",
    "        #TODO: Complete definition of z-axis homogeneous transform -----\n",
    "        pass\n",
    "        #ENDTODO\n",
    "    else:\n",
    "        return -1\n",
    "\n",
    "    homogeneous_transformation = rot @ trans\n",
    "    vis[\"rotated_frame\"].set_transform(homogeneous_transformation)\n",
    "    print_pos = tf.rotation_matrix(np.pi/2, [0,0,1]) @ tf.translation_matrix([-8, 1, 0])\n",
    "    vis.printMatrix(homogeneous_transformation, 10, print_pos)"
   ]
  },
  {
   "cell_type": "code",
   "execution_count": null,
   "metadata": {
    "cell_id": "de5c3210ece44fc9a5ef4c3f24148593",
    "deepnote_cell_height": 706,
    "deepnote_cell_type": "code",
    "deepnote_to_be_reexecuted": false,
    "execution_millis": 103,
    "execution_start": 1658297582092,
    "source_hash": "3e05ae7b",
    "tags": []
   },
   "outputs": [],
   "source": [
    "vis.delete()\n",
    "vis.Set3DView(pos = [5.0, 6.0, -3.0])\n",
    "\n",
    "length = 1.0\n",
    "vis.add_thick_triad(\"rotated_frame\", length = length, opacity = 1.0) \n",
    "vis.add_thick_triad(\"original_frame\", length = length, opacity = 0.1) \n",
    "\n",
    "mode_btn = widgets.ToggleButtons(\n",
    "  options=['x transform', 'y transform', 'z transform'],\n",
    "  description='Transform:',\n",
    ")\n",
    "\n",
    "stepsize = 0.01\n",
    "\n",
    "axes = ['x', 'y', 'z']\n",
    "prefixes = ['theta_', 'd_']\n",
    "sliders = []\n",
    "for axis in axes:\n",
    "    for prefix in prefixes:\n",
    "        sliders.append(widgets.FloatSlider(\n",
    "            value = 0, \n",
    "            min = -2 if prefix == 'd_' else -2*np.pi, \n",
    "            max = 2 if prefix == 'd_' else 2*np.pi,\n",
    "            step = stepsize,\n",
    "            description = prefix + axis,\n",
    "        ))\n",
    "\n",
    "widgets.interactive_output(transform3D, {'mode': mode_btn, 'theta_x': sliders[0], 'd_x': sliders[1],\n",
    "                                                'theta_y': sliders[2], 'd_y': sliders[3],\n",
    "                                                'theta_z': sliders[4], 'd_z': sliders[5]})\n",
    "display(mode_btn, *sliders)\n",
    "display(vis.show_inline())"
   ]
  }
 ],
 "metadata": {
  "deepnote": {},
  "deepnote_execution_queue": [],
  "deepnote_notebook_id": "d0257516-c81b-4049-9b98-e46a4351f2fa",
  "kernelspec": {
   "display_name": "Python 3",
   "language": "python",
   "name": "python3"
  },
  "language_info": {
   "codemirror_mode": {
    "name": "ipython",
    "version": 3
   },
   "file_extension": ".py",
   "mimetype": "text/x-python",
   "name": "python",
   "nbconvert_exporter": "python",
   "pygments_lexer": "ipython3",
   "version": "3.11.3"
  }
 },
 "nbformat": 4,
 "nbformat_minor": 4
}
