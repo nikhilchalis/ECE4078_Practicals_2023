{
 "cells": [
  {
   "cell_type": "markdown",
   "metadata": {
    "cell_id": "488030e31dec46b6a9fe5ea407f78e33",
    "deepnote_cell_height": 218.60000610351562,
    "deepnote_cell_type": "markdown",
    "owner_user_id": "8979978f-05a8-4af3-84d3-b89b8c07f6ef",
    "tags": []
   },
   "source": [
    "You may also find these commands useful when using the notebook:\n",
    "- \"Ctrl\" + \"/\" to comment/uncomment\n",
    "- \"Shift\" + \"Enter\" to run the block\n",
    "\n",
    "In the following code blocks, we will import dependencies and initialize our visualizer"
   ]
  },
  {
   "cell_type": "code",
   "execution_count": 1,
   "metadata": {
    "cell_id": "c2221c24676f4c3580b65122f528444d",
    "deepnote_cell_height": 225,
    "deepnote_cell_type": "code",
    "deepnote_to_be_reexecuted": false,
    "execution_millis": 1197,
    "execution_start": 1658299058017,
    "source_hash": "268c64bb",
    "tags": []
   },
   "outputs": [
    {
     "ename": "ModuleNotFoundError",
     "evalue": "No module named 'ece4078'",
     "output_type": "error",
     "traceback": [
      "\u001b[1;31m---------------------------------------------------------------------------\u001b[0m",
      "\u001b[1;31mModuleNotFoundError\u001b[0m                       Traceback (most recent call last)",
      "Cell \u001b[1;32mIn[1], line 3\u001b[0m\n\u001b[0;32m      1\u001b[0m \u001b[38;5;28;01mimport\u001b[39;00m \u001b[38;5;21;01mipywidgets\u001b[39;00m \u001b[38;5;28;01mas\u001b[39;00m \u001b[38;5;21;01mwidgets\u001b[39;00m\n\u001b[1;32m----> 3\u001b[0m \u001b[38;5;28;01mfrom\u001b[39;00m \u001b[38;5;21;01mece4078\u001b[39;00m\u001b[38;5;21;01m.\u001b[39;00m\u001b[38;5;21;01mUtility\u001b[39;00m \u001b[38;5;28;01mimport\u001b[39;00m StartMeshcat\n\u001b[0;32m      4\u001b[0m \u001b[38;5;28;01mfrom\u001b[39;00m \u001b[38;5;21;01mece4078\u001b[39;00m\u001b[38;5;21;01m.\u001b[39;00m\u001b[38;5;21;01mNotebookChecker\u001b[39;00m \u001b[38;5;28;01mimport\u001b[39;00m intro\n",
      "\u001b[1;31mModuleNotFoundError\u001b[0m: No module named 'ece4078'"
     ]
    }
   ],
   "source": [
    "import ipywidgets as widgets\n",
    "\n",
    "from ece4078.Utility import StartMeshcat\n",
    "from ece4078.NotebookChecker import intro"
   ]
  },
  {
   "cell_type": "code",
   "execution_count": null,
   "metadata": {
    "cell_id": "905d7ef579e44f49998a612d80d96d7a",
    "deepnote_cell_height": 81,
    "deepnote_cell_type": "code",
    "deepnote_to_be_reexecuted": false,
    "execution_millis": 772,
    "execution_start": 1658299061899,
    "source_hash": "34afddb1",
    "tags": []
   },
   "outputs": [],
   "source": [
    "vis = StartMeshcat()"
   ]
  },
  {
   "cell_type": "markdown",
   "metadata": {
    "cell_id": "68e49ed601594cc9ae56845183e4466e",
    "deepnote_cell_height": 161.60000610351562,
    "deepnote_cell_type": "markdown",
    "tags": []
   },
   "source": [
    "Testing the Notebook First\n",
    "\n",
    "To make sure that your notebook instance has been created correctly, please execute the code below.\n",
    "\n",
    "You should see the secret message as you move the slider."
   ]
  },
  {
   "cell_type": "code",
   "execution_count": null,
   "metadata": {
    "cell_id": "de6af501254146e79f61980244ada7c1",
    "deepnote_cell_height": 153,
    "deepnote_cell_type": "code",
    "deepnote_to_be_reexecuted": false,
    "execution_millis": 462,
    "execution_start": 1658299065318,
    "source_hash": "81e6c955",
    "tags": []
   },
   "outputs": [],
   "source": [
    "vis.delete()\n",
    "scale = 0.75\n",
    "vis.setPNGView(scale, center = [0.75*scale * lim for lim in [-2, 1, 1, -1]])\n",
    "notebook_plot, w_slider = intro(vis)\n",
    "display(w_slider, notebook_plot)\n",
    "display(vis.show_inline())"
   ]
  }
 ],
 "metadata": {
  "deepnote": {},
  "deepnote_execution_queue": [],
  "deepnote_notebook_id": "d0257516-c81b-4049-9b98-e46a4351f2fa",
  "kernelspec": {
   "display_name": "Python 3",
   "language": "python",
   "name": "python3"
  },
  "language_info": {
   "codemirror_mode": {
    "name": "ipython",
    "version": 3
   },
   "file_extension": ".py",
   "mimetype": "text/x-python",
   "name": "python",
   "nbconvert_exporter": "python",
   "pygments_lexer": "ipython3",
   "version": "3.11.3"
  }
 },
 "nbformat": 4,
 "nbformat_minor": 4
}
